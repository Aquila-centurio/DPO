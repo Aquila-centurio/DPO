{
 "cells": [
  {
   "cell_type": "markdown",
   "metadata": {},
   "source": [
    "**№1**\n",
    "Напишите программу, которая определит, является ли число четным или нечетным. "
   ]
  },
  {
   "cell_type": "code",
   "execution_count": 1,
   "metadata": {},
   "outputs": [
    {
     "name": "stdout",
     "output_type": "stream",
     "text": [
      "13 is an odd number.\n"
     ]
    }
   ],
   "source": [
    "x = int(input(\"Enter the number: \"))  # Читаем ввод и сразу преобразуем в int\n",
    "if x % 2 == 0:\n",
    "    print(f\"{x} is an even number.\")  # Чётное число\n",
    "else:\n",
    "    print(f\"{x} is an odd number.\")  # Нечётное число\n"
   ]
  },
  {
   "cell_type": "markdown",
   "metadata": {},
   "source": [
    "**№2**\n",
    "Напишите функцию, которая решает уравнение: * x^2 + b * x + c = 0 для любого заданного a, b,c. "
   ]
  },
  {
   "cell_type": "code",
   "execution_count": 5,
   "metadata": {},
   "outputs": [
    {
     "name": "stdout",
     "output_type": "stream",
     "text": [
      "Вещественные корни: x1 = 3.0, x2 = 2.0\n"
     ]
    }
   ],
   "source": [
    "import math\n",
    "\n",
    "def solve_quadratic(a, b, c):\n",
    "    if a == 0:\n",
    "        if b == 0:\n",
    "            return \"No solution\" if c != 0 else \"Infinite solutions\"\n",
    "        return f\"One solution: x = {-c / b}\"  \n",
    "\n",
    "    discriminant = b**2 - 4*a*c \n",
    "\n",
    "    if discriminant > 0:\n",
    "        x1 = (-b + math.sqrt(discriminant)) / (2 * a)\n",
    "        x2 = (-b - math.sqrt(discriminant)) / (2 * a)\n",
    "        return f\"Вещественные корни: x1 = {x1}, x2 = {x2}\"\n",
    "    elif discriminant == 0:\n",
    "        x = -b / (2 * a)\n",
    "        return f\"Вещественный корень: x = {x}\"\n",
    "    else:\n",
    "        real_part = -b / (2 * a)\n",
    "        imag_part = math.sqrt(abs(discriminant)) / (2 * a)\n",
    "        return f\"Комплексные корни: x1 = {real_part} + {imag_part}i, x2 = {real_part} - {imag_part}i\"\n",
    "\n",
    "\n",
    "a, b, c = map(float, input(\"Enter coefficients a, b, c: \").split())\n",
    "print(solve_quadratic(a, b, c))\n"
   ]
  },
  {
   "cell_type": "markdown",
   "metadata": {},
   "source": [
    "**№3**\n",
    "Напишите функцию, которая возвращает максимальное значение в списке без использования функции «max» (встроенной) или метода сортировки списка. "
   ]
  },
  {
   "cell_type": "code",
   "execution_count": 6,
   "metadata": {},
   "outputs": [
    {
     "name": "stdout",
     "output_type": "stream",
     "text": [
      "Максимальное значение: 145\n"
     ]
    }
   ],
   "source": [
    "def find_max(lst):\n",
    "    if not lst:  \n",
    "        return None  \n",
    "    max_value = lst[0]  \n",
    "    for num in lst[1:]:  \n",
    "        if num > max_value:\n",
    "            max_value = num  \n",
    "\n",
    "    return max_value\n",
    "\n",
    "numbers = [3, 7, 2, 9, 5, 10, 145, 67, 21]\n",
    "print(\"Максимальное значение:\", find_max(numbers))\n"
   ]
  },
  {
   "cell_type": "markdown",
   "metadata": {},
   "source": [
    "**№4**\n",
    "Напишите игру «Угадай число». Компьютер загадывает одно число от 1 до 9. Пользователь вводит с клавиатуры одно число от 1 до 9.  \n",
    "- Если введенное число меньше загаданного, на экран выводится сообщение «Ваше число меньше».  \n",
    "- Если введенное число больше загаданного, то выводим сообщение «Ваше число больше». \n",
    "- Если число равно загаданного, выводим сообщение «Вы угадали». \n",
    "- Максимальное число попыток – 3. \n",
    "- Если попытки закончились, выводим соответствующее сообщение. \n",
    "- Игра длиться пока пользователь не угадаете число либо у него не закончатся попытки. \n",
    "- Если попытки закончились, то предлагаем пользователю начать игру сначала. \n",
    "\n",
    "  "
   ]
  },
  {
   "cell_type": "code",
   "execution_count": 10,
   "metadata": {},
   "outputs": [
    {
     "name": "stdout",
     "output_type": "stream",
     "text": [
      "Загаданное число больше 5\n",
      "Загаданное число больше 7\n",
      "Загаданное число больше 8\n",
      "Попытки закончились. Загаданное число было: 9\n"
     ]
    }
   ],
   "source": [
    "import random\n",
    "\n",
    "def guess_number():\n",
    "    while True:\n",
    "        number = random.randint(1, 9)\n",
    "        attempts = 3\n",
    "        \n",
    "        while attempts > 0:\n",
    "            guess = int(input(\"Введите число от 1 до 9: \"))\n",
    "            \n",
    "            if guess < number:\n",
    "                print(f\"Загаданное число больше {guess}\")\n",
    "            elif guess > number:\n",
    "                print(f\"Загаданное число меньше {guess}\")\n",
    "            else:\n",
    "                print(\"Вы угадали!\")\n",
    "                return\n",
    "            \n",
    "            attempts -= 1\n",
    "        \n",
    "        print(\"Попытки закончились. Загаданное число было:\", number)\n",
    "        restart = input(\"Хотите сыграть снова? (да/нет): \").strip().lower()\n",
    "        if restart != \"да\":\n",
    "            break\n",
    "\n",
    "guess_number()\n"
   ]
  }
 ],
 "metadata": {
  "kernelspec": {
   "display_name": "Python 3",
   "language": "python",
   "name": "python3"
  },
  "language_info": {
   "codemirror_mode": {
    "name": "ipython",
    "version": 3
   },
   "file_extension": ".py",
   "mimetype": "text/x-python",
   "name": "python",
   "nbconvert_exporter": "python",
   "pygments_lexer": "ipython3",
   "version": "3.10.12"
  }
 },
 "nbformat": 4,
 "nbformat_minor": 2
}
